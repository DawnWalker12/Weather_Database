{
 "cells": [
  {
   "cell_type": "code",
   "execution_count": 7,
   "id": "d3e089a8",
   "metadata": {},
   "outputs": [],
   "source": [
    "# Import the random module.\n",
    "import random"
   ]
  },
  {
   "cell_type": "markdown",
   "id": "9b6dc323",
   "metadata": {},
   "source": [
    "## random.random()"
   ]
  },
  {
   "cell_type": "code",
   "execution_count": 8,
   "id": "08bd76ed",
   "metadata": {},
   "outputs": [],
   "source": [
    "# random.random()returns a floating point number between 0 and 1.\n",
    "# It creates a random nuumber with a large number of decimal points."
   ]
  },
  {
   "cell_type": "code",
   "execution_count": 9,
   "id": "b5c5c9f5",
   "metadata": {},
   "outputs": [
    {
     "data": {
      "text/plain": [
       "0.7357332261536176"
      ]
     },
     "execution_count": 9,
     "metadata": {},
     "output_type": "execute_result"
    }
   ],
   "source": [
    "random.random()"
   ]
  },
  {
   "cell_type": "markdown",
   "id": "514eb823",
   "metadata": {},
   "source": [
    "## random.randint()"
   ]
  },
  {
   "cell_type": "code",
   "execution_count": 10,
   "id": "79e6cd44",
   "metadata": {},
   "outputs": [],
   "source": [
    "# random.randint() produces a random number between 2 arguments\n",
    "# this number can be equal to the lower and upper boundaries"
   ]
  },
  {
   "cell_type": "code",
   "execution_count": 11,
   "id": "b9f6f0da",
   "metadata": {},
   "outputs": [
    {
     "data": {
      "text/plain": [
       "-48"
      ]
     },
     "execution_count": 11,
     "metadata": {},
     "output_type": "execute_result"
    }
   ],
   "source": [
    "random.randint(-90,90)"
   ]
  },
  {
   "cell_type": "code",
   "execution_count": 12,
   "id": "0f755a1b",
   "metadata": {},
   "outputs": [
    {
     "data": {
      "text/plain": [
       "10"
      ]
     },
     "execution_count": 12,
     "metadata": {},
     "output_type": "execute_result"
    }
   ],
   "source": [
    "random.randint(-10,10)"
   ]
  },
  {
   "cell_type": "markdown",
   "id": "18c935d0",
   "metadata": {},
   "source": [
    "## random.randrange()"
   ]
  },
  {
   "cell_type": "code",
   "execution_count": 13,
   "id": "f75777fb",
   "metadata": {},
   "outputs": [],
   "source": [
    "# random.randrange()produces an integer that falls within a specified range\n",
    "# returns are limited by the STEP argument. This method takes steps from \n",
    "# the lower bounder to the upper bounder to select the integeres"
   ]
  },
  {
   "cell_type": "code",
   "execution_count": 14,
   "id": "dc4c385e",
   "metadata": {},
   "outputs": [
    {
     "data": {
      "text/plain": [
       "-9"
      ]
     },
     "execution_count": 14,
     "metadata": {},
     "output_type": "execute_result"
    }
   ],
   "source": [
    "random.randrange(-9,9,2)"
   ]
  },
  {
   "cell_type": "markdown",
   "id": "6bb88aba",
   "metadata": {},
   "source": [
    "## random.uniform()"
   ]
  },
  {
   "cell_type": "code",
   "execution_count": 15,
   "id": "917add56",
   "metadata": {},
   "outputs": [],
   "source": [
    "# random.uniform() produces a value within a specified range, HOWEVER, the output is not an integer"
   ]
  },
  {
   "cell_type": "code",
   "execution_count": 16,
   "id": "26398837",
   "metadata": {},
   "outputs": [
    {
     "data": {
      "text/plain": [
       "-8.409545803445663"
      ]
     },
     "execution_count": 16,
     "metadata": {},
     "output_type": "execute_result"
    }
   ],
   "source": [
    "random.uniform(-10,10)"
   ]
  },
  {
   "cell_type": "code",
   "execution_count": 17,
   "id": "80989f4d",
   "metadata": {},
   "outputs": [
    {
     "data": {
      "text/plain": [
       "<module 'random' from 'C:\\\\Users\\\\M221912\\\\Anaconda3\\\\envs\\\\PythonData\\\\lib\\\\random.py'>"
      ]
     },
     "execution_count": 17,
     "metadata": {},
     "output_type": "execute_result"
    }
   ],
   "source": [
    "random"
   ]
  },
  {
   "cell_type": "code",
   "execution_count": 18,
   "id": "84b4c56b",
   "metadata": {},
   "outputs": [
    {
     "data": {
      "text/plain": [
       "1"
      ]
     },
     "execution_count": 18,
     "metadata": {},
     "output_type": "execute_result"
    }
   ],
   "source": [
    "random.randint(-90,90)\n",
    "# This function will only return one integer"
   ]
  },
  {
   "cell_type": "code",
   "execution_count": 19,
   "id": "fb87364e",
   "metadata": {},
   "outputs": [
    {
     "data": {
      "text/plain": [
       "0.9700530484617261"
      ]
     },
     "execution_count": 19,
     "metadata": {},
     "output_type": "execute_result"
    }
   ],
   "source": [
    "random.random()"
   ]
  },
  {
   "cell_type": "code",
   "execution_count": 20,
   "id": "69a94ccd",
   "metadata": {},
   "outputs": [],
   "source": [
    "x = 1                     # Assign the variable x to 1\n",
    "latitudes = []            # Initialize an empty list, latitudes.\n",
    "while x < 11:             # Create a while loop to generate a random latitude and add it to the list.\n",
    "    random_lat = random.randint(-90, 89) + random.random()\n",
    "    latitudes.append(random_lat)   # add one to the variable \"x\".\n",
    "    x += 1               # while loop condition is checked again and will continue to run as long as x is less than 11."
   ]
  },
  {
   "cell_type": "code",
   "execution_count": 21,
   "id": "6c32bd7f",
   "metadata": {},
   "outputs": [
    {
     "data": {
      "text/plain": [
       "[73.025401123075,\n",
       " -69.2975075265987,\n",
       " 43.96220218291742,\n",
       " -2.6625922173908627,\n",
       " -25.56047874514876,\n",
       " 47.42599432670712,\n",
       " -72.81625629225996,\n",
       " -25.841209760557884,\n",
       " 48.830602401706734,\n",
       " -74.49872636950157]"
      ]
     },
     "execution_count": 21,
     "metadata": {},
     "output_type": "execute_result"
    }
   ],
   "source": [
    "latitudes"
   ]
  },
  {
   "cell_type": "code",
   "execution_count": 22,
   "id": "c43eae0f",
   "metadata": {},
   "outputs": [
    {
     "data": {
      "text/plain": [
       "-88"
      ]
     },
     "execution_count": 22,
     "metadata": {},
     "output_type": "execute_result"
    }
   ],
   "source": [
    "random.randrange(-90,90,step=1)"
   ]
  },
  {
   "cell_type": "code",
   "execution_count": 23,
   "id": "4aac580f",
   "metadata": {},
   "outputs": [
    {
     "data": {
      "text/plain": [
       "-3"
      ]
     },
     "execution_count": 23,
     "metadata": {},
     "output_type": "execute_result"
    }
   ],
   "source": [
    "random.randrange(-90,90,step=3)"
   ]
  },
  {
   "cell_type": "code",
   "execution_count": 24,
   "id": "2ffdb9e7",
   "metadata": {},
   "outputs": [
    {
     "data": {
      "text/plain": [
       "-12.831739941484528"
      ]
     },
     "execution_count": 24,
     "metadata": {},
     "output_type": "execute_result"
    }
   ],
   "source": [
    "random.uniform(-90,90)"
   ]
  },
  {
   "cell_type": "code",
   "execution_count": 25,
   "id": "c4cb502c",
   "metadata": {},
   "outputs": [],
   "source": [
    "#import the NumPy module\n",
    "import numpy as np"
   ]
  },
  {
   "cell_type": "code",
   "execution_count": 26,
   "id": "0387734c",
   "metadata": {},
   "outputs": [
    {
     "data": {
      "text/plain": [
       "25.936456529311698"
      ]
     },
     "execution_count": 26,
     "metadata": {},
     "output_type": "execute_result"
    }
   ],
   "source": [
    "np.random.uniform(-90.000,90.000)"
   ]
  },
  {
   "cell_type": "code",
   "execution_count": 27,
   "id": "728537cd",
   "metadata": {},
   "outputs": [
    {
     "data": {
      "text/plain": [
       "array([-76.67163449, -61.42406682, -30.71562188,  27.4818669 ,\n",
       "       -83.37900985,  54.78599046, -33.11069814,  63.00538464,\n",
       "        34.56107664,  50.85408399, -47.70180263,  57.68541728,\n",
       "        23.39247509, -86.29320276,  67.66964981,  65.8820893 ,\n",
       "         5.60993179, -58.77234441,  39.37200262,  87.91754913,\n",
       "        62.74183728,  57.6540993 ,  45.9475653 ,  -3.54789028,\n",
       "       -10.58031895,  88.94062661,  61.12958213, -83.77967849,\n",
       "       -33.55282867, -82.58619779, -13.3456189 ,  16.82562274,\n",
       "        54.33446101, -49.99471722,  74.18772928,  29.6719501 ,\n",
       "       -46.57266904, -17.29576026,  88.7874728 , -73.39593473,\n",
       "        31.86048666, -18.88317306, -78.00913734,  11.7776961 ,\n",
       "       -25.81787636,  88.17006213, -20.92765555, -30.38487999,\n",
       "       -56.62374992,  -3.52621216])"
      ]
     },
     "execution_count": 27,
     "metadata": {},
     "output_type": "execute_result"
    }
   ],
   "source": [
    "np.random.uniform(-90.000,90.000,size=50)"
   ]
  },
  {
   "cell_type": "code",
   "execution_count": 28,
   "id": "04a3c12a",
   "metadata": {},
   "outputs": [],
   "source": [
    "#import timeit\n",
    "import timeit"
   ]
  },
  {
   "cell_type": "code",
   "execution_count": 29,
   "id": "bf1bd5e4",
   "metadata": {},
   "outputs": [
    {
     "name": "stdout",
     "output_type": "stream",
     "text": [
      "23.2 µs ± 1.85 µs per loop (mean ± std. dev. of 7 runs, 10000 loops each)\n"
     ]
    }
   ],
   "source": [
    "%timeit np.random.uniform(-90.000,90.000,size=1500)"
   ]
  },
  {
   "cell_type": "code",
   "execution_count": 31,
   "id": "ac650f2a",
   "metadata": {},
   "outputs": [
    {
     "name": "stdout",
     "output_type": "stream",
     "text": [
      "2.2 ms ± 141 µs per loop (mean ± std. dev. of 7 runs, 100 loops each)\n"
     ]
    }
   ],
   "source": [
    "def latitudes(size):\n",
    "    latitudes = []\n",
    "    x = 0\n",
    "    while x < (size):\n",
    "        random_lat = random.randint(-90, 90) + random.random()\n",
    "        latitudes.append(random_lat)\n",
    "        x += 1\n",
    "    return latitudes\n",
    "# Call the function with 1500.\n",
    "%timeit latitudes(1500)"
   ]
  },
  {
   "cell_type": "code",
   "execution_count": null,
   "id": "bbe9385a",
   "metadata": {},
   "outputs": [],
   "source": []
  },
  {
   "cell_type": "code",
   "execution_count": null,
   "id": "dc919bd1",
   "metadata": {},
   "outputs": [],
   "source": []
  }
 ],
 "metadata": {
  "kernelspec": {
   "display_name": "PythonData",
   "language": "python",
   "name": "pythondata"
  },
  "language_info": {
   "codemirror_mode": {
    "name": "ipython",
    "version": 3
   },
   "file_extension": ".py",
   "mimetype": "text/x-python",
   "name": "python",
   "nbconvert_exporter": "python",
   "pygments_lexer": "ipython3",
   "version": "3.7.11"
  }
 },
 "nbformat": 4,
 "nbformat_minor": 5
}
