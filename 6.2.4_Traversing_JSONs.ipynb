{
 "cells": [
  {
   "cell_type": "code",
   "execution_count": 1,
   "id": "07a87167",
   "metadata": {},
   "outputs": [],
   "source": [
    "import requests\n",
    "from config import weather_api_key"
   ]
  },
  {
   "cell_type": "code",
   "execution_count": 2,
   "id": "d123c42a",
   "metadata": {},
   "outputs": [],
   "source": [
    "url = \"http://api.openweathermap.org/data/2.5/weather?\"\n",
    "city = \"London\""
   ]
  },
  {
   "cell_type": "code",
   "execution_count": 3,
   "id": "27ee55dd",
   "metadata": {},
   "outputs": [],
   "source": [
    "query_url = url + \"appid=\"+ weather_api_key + \"&q=\" + city"
   ]
  },
  {
   "cell_type": "code",
   "execution_count": 4,
   "id": "999926c9",
   "metadata": {},
   "outputs": [],
   "source": [
    "weather_response = requests.get(query_url)\n",
    "weather_json  = weather_response.json()"
   ]
  },
  {
   "cell_type": "code",
   "execution_count": 5,
   "id": "aa588b74",
   "metadata": {},
   "outputs": [
    {
     "data": {
      "text/plain": [
       "dict_keys(['coord', 'weather', 'base', 'main', 'visibility', 'wind', 'clouds', 'dt', 'sys', 'timezone', 'id', 'name', 'cod'])"
      ]
     },
     "execution_count": 5,
     "metadata": {},
     "output_type": "execute_result"
    }
   ],
   "source": [
    "weather_json.keys()"
   ]
  },
  {
   "cell_type": "code",
   "execution_count": 6,
   "id": "5124a184",
   "metadata": {},
   "outputs": [
    {
     "data": {
      "text/plain": [
       "{'temp': 276.97,\n",
       " 'feels_like': 273.49,\n",
       " 'temp_min': 275.22,\n",
       " 'temp_max': 278.05,\n",
       " 'pressure': 1032,\n",
       " 'humidity': 81}"
      ]
     },
     "execution_count": 6,
     "metadata": {},
     "output_type": "execute_result"
    }
   ],
   "source": [
    "weather_json.get(\"main\")"
   ]
  },
  {
   "cell_type": "markdown",
   "id": "1a6b02bf",
   "metadata": {},
   "source": [
    "# 6.2.3 "
   ]
  },
  {
   "cell_type": "code",
   "execution_count": 15,
   "id": "047b0dd1",
   "metadata": {},
   "outputs": [],
   "source": [
    "import pandas as pd\n",
    "import matplotlib.pyplot as plt\n",
    "import numpy as np"
   ]
  },
  {
   "cell_type": "code",
   "execution_count": 16,
   "id": "41589fd2",
   "metadata": {},
   "outputs": [],
   "source": [
    "#import the requests library\n",
    "import requests"
   ]
  },
  {
   "cell_type": "code",
   "execution_count": 21,
   "id": "452326ae",
   "metadata": {},
   "outputs": [],
   "source": [
    "#import the API key\n",
    "from config import weather_api_key"
   ]
  },
  {
   "cell_type": "markdown",
   "id": "cafe4460",
   "metadata": {},
   "source": [
    "# Add the API URL from OpenWeatherMap"
   ]
  },
  {
   "cell_type": "code",
   "execution_count": 18,
   "id": "b7c1b64f",
   "metadata": {},
   "outputs": [
    {
     "name": "stdout",
     "output_type": "stream",
     "text": [
      "http://openweathermap.org/data/2.5/weather?units=imperl&APPID=\n"
     ]
    }
   ],
   "source": [
    "url = \"http://openweathermap.org/data/2.5/weather?units=imperl&APPID=\"\n",
    "print(url)"
   ]
  },
  {
   "cell_type": "code",
   "execution_count": 19,
   "id": "5fbb1a91",
   "metadata": {},
   "outputs": [],
   "source": [
    "# if you get a 400 message - add the city to the url"
   ]
  },
  {
   "cell_type": "code",
   "execution_count": 20,
   "id": "19edbe38",
   "metadata": {},
   "outputs": [
    {
     "name": "stdout",
     "output_type": "stream",
     "text": [
      "http://openweathermap.org/data/2.5/weather?units=imperl&APPID=&q=Boston\n"
     ]
    }
   ],
   "source": [
    "# Create an endpoint url for a city\n",
    "city_url = url + \"&q=\" + \"Boston\"\n",
    "print(city_url)"
   ]
  },
  {
   "cell_type": "code",
   "execution_count": null,
   "id": "d8da9ce9",
   "metadata": {},
   "outputs": [],
   "source": []
  },
  {
   "cell_type": "code",
   "execution_count": null,
   "id": "72020cd4",
   "metadata": {},
   "outputs": [],
   "source": [
    "api.openweathermap.org/data/2.5/weather?lat={lat}&lon={lon}&appid={weather_api_key}"
   ]
  }
 ],
 "metadata": {
  "kernelspec": {
   "display_name": "PythonData",
   "language": "python",
   "name": "pythondata"
  },
  "language_info": {
   "codemirror_mode": {
    "name": "ipython",
    "version": 3
   },
   "file_extension": ".py",
   "mimetype": "text/x-python",
   "name": "python",
   "nbconvert_exporter": "python",
   "pygments_lexer": "ipython3",
   "version": "3.7.11"
  }
 },
 "nbformat": 4,
 "nbformat_minor": 5
}
